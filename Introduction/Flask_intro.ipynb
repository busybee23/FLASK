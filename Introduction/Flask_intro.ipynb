{
  "nbformat": 4,
  "nbformat_minor": 0,
  "metadata": {
    "colab": {
      "name": "Flask_intro.ipynb",
      "provenance": []
    },
    "kernelspec": {
      "name": "python3",
      "display_name": "Python 3"
    }
  },
  "cells": [
    {
      "cell_type": "markdown",
      "metadata": {
        "id": "qfMXv2wxhJZ4",
        "colab_type": "text"
      },
      "source": [
        "Flask is a micro web framework written in Python. It is classified as a microframework because it does not require particular tools or libraries. It has no database abstraction layer, form validation, or any other components where pre-existing third-party libraries provide common functions.\n",
        "\n",
        "Hers's a basic code for creating a home page and an about and deploying it on website.\n"
      ]
    },
    {
      "cell_type": "code",
      "metadata": {
        "id": "hF4DYZDEg3DU",
        "colab_type": "code",
        "colab": {}
      },
      "source": [
        "from flask import Flask\n",
        "app = Flask(__name__)\n",
        "\n",
        "@app.route('/')\n",
        "def home():\n",
        "    return '<h1>Hello World!</h1> '  \n",
        "\n",
        "@app.route('/about')\n",
        "def about():\n",
        "    return '<h1>About Page</h1> '  \n",
        "\n",
        "if __name__== '__main__':\n",
        "  app.run(debug =True)\n",
        "\n"
      ],
      "execution_count": null,
      "outputs": []
    },
    {
      "cell_type": "markdown",
      "metadata": {
        "id": "YpiWX56yhj3x",
        "colab_type": "text"
      },
      "source": [
        "Importing **Flask** class and creating a variable **app** and instance the class **FLASK** which is used when running flask through command line, where the name of our file will be there but when running this scrpit directly through python this **name** will be converted to main becuase we're executing this from our code only."
      ]
    },
    {
      "cell_type": "code",
      "metadata": {
        "id": "0yjhJxy2hjGy",
        "colab_type": "code",
        "colab": {}
      },
      "source": [
        "from flask import Flask\n",
        "app = Flask(__name__)"
      ],
      "execution_count": null,
      "outputs": []
    },
    {
      "cell_type": "markdown",
      "metadata": {
        "id": "L1yVbj5jigUz",
        "colab_type": "text"
      },
      "source": [
        "**Routes** = Routes are what we type into our browser to get to different pages like /about, /info, /login, /contact and things.\n",
        "This **/** is basically our home page amd returns **Hello World!** "
      ]
    },
    {
      "cell_type": "code",
      "metadata": {
        "id": "jgWrJ1xni3RS",
        "colab_type": "code",
        "colab": {}
      },
      "source": [
        "@app.route('/')\n",
        "def home():\n",
        "    return '<h1>Hello World!</h1>'  "
      ],
      "execution_count": null,
      "outputs": []
    },
    {
      "cell_type": "markdown",
      "metadata": {
        "id": "BYShDuf0nA9i",
        "colab_type": "text"
      },
      "source": [
        "**HOW TO RUN FLASK IN COMMAND LINE**\n",
        "1. cd *working directory*\n",
        "2. set FLASH_APP=blog.py ( name of your script)\n",
        "3. flask run\n",
        "4. FLASK_DEBUG=1 ( this displays real time changes on our website\n",
        "without using this we need restart our server every time we make a change )"
      ]
    },
    {
      "cell_type": "markdown",
      "metadata": {
        "id": "toY-mi-voEHs",
        "colab_type": "text"
      },
      "source": [
        "**HOW TO RUN FLASK IN PYTHON :**\n",
        "\n",
        "Add this to your code and execute this scrpit directly from command line  \n"
      ]
    },
    {
      "cell_type": "code",
      "metadata": {
        "id": "pbaJrITSpSok",
        "colab_type": "code",
        "colab": {}
      },
      "source": [
        "1. if __name__== '__main__':\n",
        "    app.run(debug=True)"
      ],
      "execution_count": null,
      "outputs": []
    },
    {
      "cell_type": "markdown",
      "metadata": {
        "id": "8GACGNJzpUwC",
        "colab_type": "text"
      },
      "source": [
        "Add this to your code and execute this scrpit directly from command line "
      ]
    }
  ]
}